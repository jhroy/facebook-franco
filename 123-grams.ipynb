{
 "cells": [
  {
   "cell_type": "code",
   "execution_count": 1,
   "metadata": {},
   "outputs": [],
   "source": [
    "import pandas as pan\n",
    "import numpy as np"
   ]
  },
  {
   "cell_type": "code",
   "execution_count": 2,
   "metadata": {},
   "outputs": [],
   "source": [
    "g1 = pan.read_csv(\"motsSeuls.csv\", low_memory=False, names=[\"mot\",\"interactions\"])\n",
    "g2 = pan.read_csv(\"bigrammes.csv\", low_memory=False, names=[\"bigramme\",\"interactions\"])\n",
    "g3 = pan.read_csv(\"trigrammes.csv\", low_memory=False, names=[\"trigramme\",\"interactions\"])"
   ]
  },
  {
   "cell_type": "code",
   "execution_count": 3,
   "metadata": {},
   "outputs": [
    {
     "data": {
      "text/html": [
       "<div>\n",
       "<style scoped>\n",
       "    .dataframe tbody tr th:only-of-type {\n",
       "        vertical-align: middle;\n",
       "    }\n",
       "\n",
       "    .dataframe tbody tr th {\n",
       "        vertical-align: top;\n",
       "    }\n",
       "\n",
       "    .dataframe thead th {\n",
       "        text-align: right;\n",
       "    }\n",
       "</style>\n",
       "<table border=\"1\" class=\"dataframe\">\n",
       "  <thead>\n",
       "    <tr style=\"text-align: right;\">\n",
       "      <th></th>\n",
       "      <th>mot</th>\n",
       "      <th>interactions</th>\n",
       "    </tr>\n",
       "  </thead>\n",
       "  <tbody>\n",
       "    <tr>\n",
       "      <th>0</th>\n",
       "      <td>moment</td>\n",
       "      <td>224233</td>\n",
       "    </tr>\n",
       "    <tr>\n",
       "      <th>1</th>\n",
       "      <td>tendresse</td>\n",
       "      <td>224233</td>\n",
       "    </tr>\n",
       "    <tr>\n",
       "      <th>2</th>\n",
       "      <td>bébé</td>\n",
       "      <td>224233</td>\n",
       "    </tr>\n",
       "    <tr>\n",
       "      <th>3</th>\n",
       "      <td>bébé</td>\n",
       "      <td>224233</td>\n",
       "    </tr>\n",
       "    <tr>\n",
       "      <th>4</th>\n",
       "      <td>apprenon</td>\n",
       "      <td>224233</td>\n",
       "    </tr>\n",
       "    <tr>\n",
       "      <th>...</th>\n",
       "      <td>...</td>\n",
       "      <td>...</td>\n",
       "    </tr>\n",
       "    <tr>\n",
       "      <th>41234273</th>\n",
       "      <td>contenu</td>\n",
       "      <td>5</td>\n",
       "    </tr>\n",
       "    <tr>\n",
       "      <th>41234274</th>\n",
       "      <td>organisation</td>\n",
       "      <td>5</td>\n",
       "    </tr>\n",
       "    <tr>\n",
       "      <th>41234275</th>\n",
       "      <td>formation</td>\n",
       "      <td>5</td>\n",
       "    </tr>\n",
       "    <tr>\n",
       "      <th>41234276</th>\n",
       "      <td>formation</td>\n",
       "      <td>5</td>\n",
       "    </tr>\n",
       "    <tr>\n",
       "      <th>41234277</th>\n",
       "      <td>Certificative</td>\n",
       "      <td>5</td>\n",
       "    </tr>\n",
       "  </tbody>\n",
       "</table>\n",
       "<p>41234278 rows × 2 columns</p>\n",
       "</div>"
      ],
      "text/plain": [
       "                    mot  interactions\n",
       "0                moment        224233\n",
       "1             tendresse        224233\n",
       "2                  bébé        224233\n",
       "3                  bébé        224233\n",
       "4              apprenon        224233\n",
       "...                 ...           ...\n",
       "41234273        contenu             5\n",
       "41234274   organisation             5\n",
       "41234275      formation             5\n",
       "41234276      formation             5\n",
       "41234277  Certificative             5\n",
       "\n",
       "[41234278 rows x 2 columns]"
      ]
     },
     "execution_count": 3,
     "metadata": {},
     "output_type": "execute_result"
    }
   ],
   "source": [
    "g1"
   ]
  },
  {
   "cell_type": "code",
   "execution_count": 4,
   "metadata": {
    "scrolled": false
   },
   "outputs": [
    {
     "data": {
      "text/html": [
       "<div>\n",
       "<style scoped>\n",
       "    .dataframe tbody tr th:only-of-type {\n",
       "        vertical-align: middle;\n",
       "    }\n",
       "\n",
       "    .dataframe tbody tr th {\n",
       "        vertical-align: top;\n",
       "    }\n",
       "\n",
       "    .dataframe thead th {\n",
       "        text-align: right;\n",
       "    }\n",
       "</style>\n",
       "<table border=\"1\" class=\"dataframe\">\n",
       "  <thead>\n",
       "    <tr style=\"text-align: right;\">\n",
       "      <th></th>\n",
       "      <th>bigramme</th>\n",
       "      <th>interactions</th>\n",
       "    </tr>\n",
       "  </thead>\n",
       "  <tbody>\n",
       "    <tr>\n",
       "      <th>0</th>\n",
       "      <td>moment tendresse</td>\n",
       "      <td>224233</td>\n",
       "    </tr>\n",
       "    <tr>\n",
       "      <th>1</th>\n",
       "      <td>tendresse bébé</td>\n",
       "      <td>224233</td>\n",
       "    </tr>\n",
       "    <tr>\n",
       "      <th>2</th>\n",
       "      <td>bébé bébé</td>\n",
       "      <td>224233</td>\n",
       "    </tr>\n",
       "    <tr>\n",
       "      <th>3</th>\n",
       "      <td>bébé apprenon</td>\n",
       "      <td>224233</td>\n",
       "    </tr>\n",
       "    <tr>\n",
       "      <th>4</th>\n",
       "      <td>apprenon changer</td>\n",
       "      <td>224233</td>\n",
       "    </tr>\n",
       "    <tr>\n",
       "      <th>...</th>\n",
       "      <td>...</td>\n",
       "      <td>...</td>\n",
       "    </tr>\n",
       "    <tr>\n",
       "      <th>40107819</th>\n",
       "      <td>relation contenu</td>\n",
       "      <td>5</td>\n",
       "    </tr>\n",
       "    <tr>\n",
       "      <th>40107820</th>\n",
       "      <td>contenu organisation</td>\n",
       "      <td>5</td>\n",
       "    </tr>\n",
       "    <tr>\n",
       "      <th>40107821</th>\n",
       "      <td>organisation formation</td>\n",
       "      <td>5</td>\n",
       "    </tr>\n",
       "    <tr>\n",
       "      <th>40107822</th>\n",
       "      <td>formation formation</td>\n",
       "      <td>5</td>\n",
       "    </tr>\n",
       "    <tr>\n",
       "      <th>40107823</th>\n",
       "      <td>formation Certificative</td>\n",
       "      <td>5</td>\n",
       "    </tr>\n",
       "  </tbody>\n",
       "</table>\n",
       "<p>40107824 rows × 2 columns</p>\n",
       "</div>"
      ],
      "text/plain": [
       "                         bigramme  interactions\n",
       "0                moment tendresse        224233\n",
       "1                  tendresse bébé        224233\n",
       "2                       bébé bébé        224233\n",
       "3                   bébé apprenon        224233\n",
       "4                apprenon changer        224233\n",
       "...                           ...           ...\n",
       "40107819         relation contenu             5\n",
       "40107820     contenu organisation             5\n",
       "40107821   organisation formation             5\n",
       "40107822      formation formation             5\n",
       "40107823  formation Certificative             5\n",
       "\n",
       "[40107824 rows x 2 columns]"
      ]
     },
     "execution_count": 4,
     "metadata": {},
     "output_type": "execute_result"
    }
   ],
   "source": [
    "g2"
   ]
  },
  {
   "cell_type": "code",
   "execution_count": 5,
   "metadata": {
    "scrolled": false
   },
   "outputs": [
    {
     "data": {
      "text/html": [
       "<div>\n",
       "<style scoped>\n",
       "    .dataframe tbody tr th:only-of-type {\n",
       "        vertical-align: middle;\n",
       "    }\n",
       "\n",
       "    .dataframe tbody tr th {\n",
       "        vertical-align: top;\n",
       "    }\n",
       "\n",
       "    .dataframe thead th {\n",
       "        text-align: right;\n",
       "    }\n",
       "</style>\n",
       "<table border=\"1\" class=\"dataframe\">\n",
       "  <thead>\n",
       "    <tr style=\"text-align: right;\">\n",
       "      <th></th>\n",
       "      <th>trigramme</th>\n",
       "      <th>interactions</th>\n",
       "    </tr>\n",
       "  </thead>\n",
       "  <tbody>\n",
       "    <tr>\n",
       "      <th>0</th>\n",
       "      <td>moment tendresse bébé</td>\n",
       "      <td>224233</td>\n",
       "    </tr>\n",
       "    <tr>\n",
       "      <th>1</th>\n",
       "      <td>tendresse bébé bébé</td>\n",
       "      <td>224233</td>\n",
       "    </tr>\n",
       "    <tr>\n",
       "      <th>2</th>\n",
       "      <td>bébé bébé apprenon</td>\n",
       "      <td>224233</td>\n",
       "    </tr>\n",
       "    <tr>\n",
       "      <th>3</th>\n",
       "      <td>bébé apprenon changer</td>\n",
       "      <td>224233</td>\n",
       "    </tr>\n",
       "    <tr>\n",
       "      <th>4</th>\n",
       "      <td>apprenon changer regard</td>\n",
       "      <td>224233</td>\n",
       "    </tr>\n",
       "    <tr>\n",
       "      <th>...</th>\n",
       "      <td>...</td>\n",
       "      <td>...</td>\n",
       "    </tr>\n",
       "    <tr>\n",
       "      <th>38981428</th>\n",
       "      <td>renseignement relation contenu</td>\n",
       "      <td>5</td>\n",
       "    </tr>\n",
       "    <tr>\n",
       "      <th>38981429</th>\n",
       "      <td>relation contenu organisation</td>\n",
       "      <td>5</td>\n",
       "    </tr>\n",
       "    <tr>\n",
       "      <th>38981430</th>\n",
       "      <td>contenu organisation formation</td>\n",
       "      <td>5</td>\n",
       "    </tr>\n",
       "    <tr>\n",
       "      <th>38981431</th>\n",
       "      <td>organisation formation formation</td>\n",
       "      <td>5</td>\n",
       "    </tr>\n",
       "    <tr>\n",
       "      <th>38981432</th>\n",
       "      <td>formation formation Certificative</td>\n",
       "      <td>5</td>\n",
       "    </tr>\n",
       "  </tbody>\n",
       "</table>\n",
       "<p>38981433 rows × 2 columns</p>\n",
       "</div>"
      ],
      "text/plain": [
       "                                  trigramme  interactions\n",
       "0                     moment tendresse bébé        224233\n",
       "1                       tendresse bébé bébé        224233\n",
       "2                        bébé bébé apprenon        224233\n",
       "3                     bébé apprenon changer        224233\n",
       "4                   apprenon changer regard        224233\n",
       "...                                     ...           ...\n",
       "38981428     renseignement relation contenu             5\n",
       "38981429      relation contenu organisation             5\n",
       "38981430     contenu organisation formation             5\n",
       "38981431   organisation formation formation             5\n",
       "38981432  formation formation Certificative             5\n",
       "\n",
       "[38981433 rows x 2 columns]"
      ]
     },
     "execution_count": 5,
     "metadata": {},
     "output_type": "execute_result"
    }
   ],
   "source": [
    "g3"
   ]
  },
  {
   "cell_type": "code",
   "execution_count": 6,
   "metadata": {
    "scrolled": true
   },
   "outputs": [],
   "source": [
    "mots = g1.groupby(\"mot\").interactions.agg([len, sum]).sort_values(by=\"sum\", ascending=False).head(1000)\n",
    "mots.to_csv(\"bilan-motsseuls.csv\")"
   ]
  },
  {
   "cell_type": "code",
   "execution_count": 7,
   "metadata": {
    "scrolled": true
   },
   "outputs": [],
   "source": [
    "bigrammes = g2.groupby(\"bigramme\").interactions.agg([len, sum]).sort_values(by=\"sum\", ascending=False).head(1000)\n",
    "bigrammes.to_csv(\"bilan-bigrammes.csv\")"
   ]
  },
  {
   "cell_type": "code",
   "execution_count": 8,
   "metadata": {
    "scrolled": true
   },
   "outputs": [],
   "source": [
    "trigrammes = g3.groupby(\"trigramme\").interactions.agg([len, sum]).sort_values(by=\"sum\", ascending=False).head(1000)\n",
    "trigrammes.to_csv(\"bilan-trigrammes.csv\")"
   ]
  },
  {
   "cell_type": "code",
   "execution_count": 2,
   "metadata": {},
   "outputs": [],
   "source": [
    "### Tableaux croisés dynamiques avec listes par médias vs non-médias\n",
    "pays = \"belgique\""
   ]
  },
  {
   "cell_type": "code",
   "execution_count": null,
   "metadata": {},
   "outputs": [],
   "source": [
    "g1_m = pan.read_csv(\"{}-motsSeuls-media-nettoye.csv\".format(pays), low_memory=False, names=[\"mot\",\"interactions\"])\n",
    "g1_nm = pan.read_csv(\"{}-motsSeuls-nonmedia-nettoye.csv\".format(pays), low_memory=False, names=[\"mot\",\"interactions\"])\n",
    "g2_m = pan.read_csv(\"{}-bigrammes-media-nettoye.csv\".format(pays), low_memory=False, names=[\"bigramme\",\"interactions\"])\n",
    "g2_nm = pan.read_csv(\"{}-bigrammes-nonmedia-nettoye.csv\".format(pays), low_memory=False, names=[\"bigramme\",\"interactions\"])\n",
    "g3_m = pan.read_csv(\"{}-trigrammes-media-nettoye.csv\".format(pays), low_memory=False, names=[\"trigramme\",\"interactions\"])\n",
    "g3_nm = pan.read_csv(\"{}-trigrammes-nonmedia-nettoye.csv\".format(pays), low_memory=False, names=[\"trigramme\",\"interactions\"])"
   ]
  },
  {
   "cell_type": "code",
   "execution_count": null,
   "metadata": {},
   "outputs": [],
   "source": [
    "mots_m = g1_m.groupby(\"mot\").interactions.agg([len, sum]).sort_values(by=\"sum\", ascending=False).head(1000)\n",
    "mots_nm = g1_nm.groupby(\"mot\").interactions.agg([len, sum]).sort_values(by=\"sum\", ascending=False).head(1000)\n",
    "bigrammes_m = g2_m.groupby(\"bigramme\").interactions.agg([len, sum]).sort_values(by=\"sum\", ascending=False).head(1000)\n",
    "bigrammes_nm = g2_nm.groupby(\"bigramme\").interactions.agg([len, sum]).sort_values(by=\"sum\", ascending=False).head(1000)\n",
    "trigrammes_m = g3_m.groupby(\"trigramme\").interactions.agg([len, sum]).sort_values(by=\"sum\", ascending=False).head(1000)\n",
    "trigrammes_nm = g3_nm.groupby(\"trigramme\").interactions.agg([len, sum]).sort_values(by=\"sum\", ascending=False).head(1000)"
   ]
  },
  {
   "cell_type": "code",
   "execution_count": null,
   "metadata": {},
   "outputs": [],
   "source": [
    "mots_m.to_csv(\"{}-bilan-motsseuls-medias.csv\".format(pays))\n",
    "mots_nm.to_csv(\"{}-bilan-motsseuls-nonmedias.csv\".format(pays))\n",
    "bigrammes_m.to_csv(\"{}-bilan-bigrammes-medias.csv\".format(pays))\n",
    "bigrammes_nm.to_csv(\"{}-bilan-bigrammes-nonmedias.csv\".format(pays))\n",
    "trigrammes_m.to_csv(\"{}-bilan-trigrammes-medias.csv\".format(pays))\n",
    "trigrammes_nm.to_csv(\"{}-bilan-trigrammes-nonmedias.csv\".format(pays))"
   ]
  },
  {
   "cell_type": "code",
   "execution_count": null,
   "metadata": {},
   "outputs": [],
   "source": []
  }
 ],
 "metadata": {
  "kernelspec": {
   "display_name": "Python 3",
   "language": "python",
   "name": "python3"
  },
  "language_info": {
   "codemirror_mode": {
    "name": "ipython",
    "version": 3
   },
   "file_extension": ".py",
   "mimetype": "text/x-python",
   "name": "python",
   "nbconvert_exporter": "python",
   "pygments_lexer": "ipython3",
   "version": "3.7.3"
  }
 },
 "nbformat": 4,
 "nbformat_minor": 4
}
